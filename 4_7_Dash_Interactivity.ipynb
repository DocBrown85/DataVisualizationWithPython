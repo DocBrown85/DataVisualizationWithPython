{
  "nbformat": 4,
  "nbformat_minor": 0,
  "metadata": {
    "kernelspec": {
      "display_name": "Python 3",
      "language": "python",
      "name": "python3"
    },
    "language_info": {
      "codemirror_mode": {
        "name": "ipython",
        "version": 3
      },
      "file_extension": ".py",
      "mimetype": "text/x-python",
      "name": "python",
      "nbconvert_exporter": "python",
      "pygments_lexer": "ipython3",
      "version": "3.7.6"
    },
    "colab": {
      "name": "4.7_Dash_Interactivity.ipynb",
      "provenance": [],
      "collapsed_sections": []
    }
  },
  "cells": [
    {
      "cell_type": "markdown",
      "metadata": {
        "id": "H9uihVoqTuhU"
      },
      "source": [
        "<center>\n",
        "    <img src=\"https://cf-courses-data.s3.us.cloud-object-storage.appdomain.cloud/IBMDeveloperSkillsNetwork-DV0101EN-SkillsNetwork/labs/Module%204/logo.png\" width=\"300\" alt=\"cognitiveclass.ai logo\" />\n",
        "</center>\n"
      ]
    },
    {
      "cell_type": "markdown",
      "metadata": {
        "id": "NLd9OOkLTuhi"
      },
      "source": [
        "# Objectives\n",
        "\n",
        "In this lab, you will work on Dash Callbacks.\n",
        "\n",
        "## Dataset Used\n",
        "\n",
        "[Airline Reporting Carrier On-Time Performance](https://developer.ibm.com/exchanges/data/all/airline?cm_mmc=Email_Newsletter-_-Developer_Ed%2BTech-_-WW_WW-_-SkillsNetwork-Courses-IBMDeveloperSkillsNetwork-DV0101EN-SkillsNetwork-20297740&cm_mmca1=000026UJ&cm_mmca2=10006555&cm_mmca3=M12345678&cvosrc=email.Newsletter.M12345678&cvo_campaign=000026UJ) dataset from [Data Asset eXchange](https://developer.ibm.com/exchanges/data?cm_mmc=Email_Newsletter-_-Developer_Ed%2BTech-_-WW_WW-_-SkillsNetwork-Courses-IBMDeveloperSkillsNetwork-DV0101EN-SkillsNetwork-20297740&cm_mmca1=000026UJ&cm_mmca2=10006555&cm_mmca3=M12345678&cvosrc=email.Newsletter.M12345678&cvo_campaign=000026UJ&cm_mmc=Email_Newsletter-_-Developer_Ed%2BTech-_-WW_WW-_-SkillsNetwork-Courses-IBMDeveloperSkillsNetwork-DV0101EN-SkillsNetwork-20297740&cm_mmca1=000026UJ&cm_mmca2=10006555&cm_mmca3=M12345678&cvosrc=email.Newsletter.M12345678&cvo_campaign=000026UJ)\n",
        "\n",
        "## Lab Question\n",
        "\n",
        "Extract average monthly arrival delay time and see how it changes over the year.\n",
        "\n",
        "## Dash Application Creation\n",
        "\n",
        "### Todo for the lab question\n",
        "\n",
        "1.  Import required libraries, read the airline data, and create an application layout\n",
        "2.  Add title to the dashboard using HTML H1 component\n",
        "3.  Add a HTML division and core text input component inside the division. Provide an input component id and a default value to the component.\n",
        "4.  Add a HTML dividion and core graph component. Provide a graph component id.\n",
        "5.  Add callback decorator and provide input and output parameters.\n",
        "6.  Define callback function, perform computation to extract required information, create the graph, and update the layout.\n",
        "7.  Run the app\n",
        "\n",
        "## Hints\n",
        "\n",
        "General examples can be found [here](https://dash.plotly.com/layout?cm_mmc=Email_Newsletter-_-Developer_Ed%2BTech-_-WW_WW-_-SkillsNetwork-Courses-IBMDeveloperSkillsNetwork-DV0101EN-SkillsNetwork-20297740&cm_mmca1=000026UJ&cm_mmca2=10006555&cm_mmca3=M12345678&cvosrc=email.Newsletter.M12345678&cvo_campaign=000026UJ).\n",
        "\n",
        "-   For step 1 (only review), this is very specific to running app from Jupyerlab.\n",
        "\n",
        "    -   For Jupyterlab,we will be using `jupyter-dash` library. Adding `from jupyter_dash import JupyterDash` import statement.\n",
        "    -   Instead of creating dash application using `app = dash.Dash()`, we will be using `app = JupyterDash(__name__)`.\n",
        "    -   Use pandas to read the airline data.\n",
        "-   For step 2,\n",
        "\n",
        "    -   [Plotly H1 HTML Component](https://dash.plotly.com/dash-html-components/h1?cm_mmc=Email_Newsletter-_-Developer_Ed%2BTech-_-WW_WW-_-SkillsNetwork-Courses-IBMDeveloperSkillsNetwork-DV0101EN-SkillsNetwork-20297740&cm_mmca1=000026UJ&cm_mmca2=10006555&cm_mmca3=M12345678&cvosrc=email.Newsletter.M12345678&cvo_campaign=000026UJ)\n",
        "    -   Title as `Airline Performance Dashboard`\n",
        "    -   Use `style` parameter and make the title center aligned, with color code `#503D36`, and font-size as 40. Check `More about HTML` section [here](https://dash.plotly.com/layout?cm_mmc=Email_Newsletter-_-Developer_Ed%2BTech-_-WW_WW-_-SkillsNetwork-Courses-IBMDeveloperSkillsNetwork-DV0101EN-SkillsNetwork-20297740&cm_mmca1=000026UJ&cm_mmca2=10006555&cm_mmca3=M12345678&cvosrc=email.Newsletter.M12345678&cvo_campaign=000026UJ&cm_mmc=Email_Newsletter-_-Developer_Ed%2BTech-_-WW_WW-_-SkillsNetwork-Courses-IBMDeveloperSkillsNetwork-DV0101EN-SkillsNetwork-20297740&cm_mmca1=000026UJ&cm_mmca2=10006555&cm_mmca3=M12345678&cvosrc=email.Newsletter.M12345678&cvo_campaign=000026UJ&cm_mmc=Email_Newsletter-_-Developer_Ed%2BTech-_-WW_WW-_-SkillsNetwork-Courses-IBMDeveloperSkillsNetwork-DV0101EN-SkillsNetwork-20297740&cm_mmca1=000026UJ&cm_mmca2=10006555&cm_mmca3=M12345678&cvosrc=email.Newsletter.M12345678&cvo_campaign=000026UJ).\n",
        "-   For step 3,\n",
        "\n",
        "    -   Add [dcc input](https://dash.plotly.com/dash-core-components/input?cm_mmc=Email_Newsletter-_-Developer_Ed%2BTech-_-WW_WW-_-SkillsNetwork-Courses-IBMDeveloperSkillsNetwork-DV0101EN-SkillsNetwork-20297740&cm_mmca1=000026UJ&cm_mmca2=10006555&cm_mmca3=M12345678&cvosrc=email.Newsletter.M12345678&cvo_campaign=000026UJ) component and provide id as `input-year`. Use `style` parameter and assign height of the inout box to be `50px` and font-size to be `35`.\n",
        "    -   HTML [Div](https://dash.plotly.com/dash-html-components/div?cm_mmc=Email_Newsletter-_-Developer_Ed%2BTech-_-WW_WW-_-SkillsNetwork-Courses-IBMDeveloperSkillsNetwork-DV0101EN-SkillsNetwork-20297740&cm_mmca1=000026UJ&cm_mmca2=10006555&cm_mmca3=M12345678&cvosrc=email.Newsletter.M12345678&cvo_campaign=000026UJ) component and provide id as `line-plot`. Use `style` parameter and assign font-size as `40`.\n",
        "-   For step 4,\n",
        "\n",
        "    -   Core [graph](https://dash.plotly.com/dash-core-components/graph?cm_mmc=Email_Newsletter-_-Developer_Ed%2BTech-_-WW_WW-_-SkillsNetwork-Courses-IBMDeveloperSkillsNetwork-DV0101EN-SkillsNetwork-20297740&cm_mmca1=000026UJ&cm_mmca2=10006555&cm_mmca3=M12345678&cvosrc=email.Newsletter.M12345678&cvo_campaign=000026UJ) component and assign id as `line-plot`.\n",
        "-   For 5 and 6,\n",
        "\n",
        "    -   Basic [callback](https://dash.plotly.com/basic-callbacks?cm_mmc=Email_Newsletter-_-Developer_Ed%2BTech-_-WW_WW-_-SkillsNetwork-Courses-IBMDeveloperSkillsNetwork-DV0101EN-SkillsNetwork-20297740&cm_mmca1=000026UJ&cm_mmca2=10006555&cm_mmca3=M12345678&cvosrc=email.Newsletter.M12345678&cvo_campaign=000026UJ)\n"
      ]
    },
    {
      "cell_type": "code",
      "metadata": {
        "colab": {
          "base_uri": "https://localhost:8080/"
        },
        "id": "8GuLdV5SUPyH",
        "outputId": "93df4d9d-8f12-4b77-c9ce-d81f2cb6f9b3"
      },
      "source": [
        "!pip install dash==1.19.0\n",
        "!pip install jupyter-dash"
      ],
      "execution_count": 1,
      "outputs": [
        {
          "output_type": "stream",
          "text": [
            "Requirement already satisfied: dash==1.19.0 in /usr/local/lib/python3.7/dist-packages (1.19.0)\n",
            "Requirement already satisfied: dash-html-components==1.1.2 in /usr/local/lib/python3.7/dist-packages (from dash==1.19.0) (1.1.2)\n",
            "Requirement already satisfied: dash-table==4.11.2 in /usr/local/lib/python3.7/dist-packages (from dash==1.19.0) (4.11.2)\n",
            "Requirement already satisfied: plotly in /usr/local/lib/python3.7/dist-packages (from dash==1.19.0) (4.4.1)\n",
            "Requirement already satisfied: Flask>=1.0.4 in /usr/local/lib/python3.7/dist-packages (from dash==1.19.0) (1.1.2)\n",
            "Requirement already satisfied: future in /usr/local/lib/python3.7/dist-packages (from dash==1.19.0) (0.16.0)\n",
            "Requirement already satisfied: dash-core-components==1.15.0 in /usr/local/lib/python3.7/dist-packages (from dash==1.19.0) (1.15.0)\n",
            "Requirement already satisfied: flask-compress in /usr/local/lib/python3.7/dist-packages (from dash==1.19.0) (1.9.0)\n",
            "Requirement already satisfied: dash-renderer==1.9.0 in /usr/local/lib/python3.7/dist-packages (from dash==1.19.0) (1.9.0)\n",
            "Requirement already satisfied: retrying>=1.3.3 in /usr/local/lib/python3.7/dist-packages (from plotly->dash==1.19.0) (1.3.3)\n",
            "Requirement already satisfied: six in /usr/local/lib/python3.7/dist-packages (from plotly->dash==1.19.0) (1.15.0)\n",
            "Requirement already satisfied: Werkzeug>=0.15 in /usr/local/lib/python3.7/dist-packages (from Flask>=1.0.4->dash==1.19.0) (1.0.1)\n",
            "Requirement already satisfied: Jinja2>=2.10.1 in /usr/local/lib/python3.7/dist-packages (from Flask>=1.0.4->dash==1.19.0) (2.11.3)\n",
            "Requirement already satisfied: itsdangerous>=0.24 in /usr/local/lib/python3.7/dist-packages (from Flask>=1.0.4->dash==1.19.0) (1.1.0)\n",
            "Requirement already satisfied: click>=5.1 in /usr/local/lib/python3.7/dist-packages (from Flask>=1.0.4->dash==1.19.0) (7.1.2)\n",
            "Requirement already satisfied: brotli in /usr/local/lib/python3.7/dist-packages (from flask-compress->dash==1.19.0) (1.0.9)\n",
            "Requirement already satisfied: MarkupSafe>=0.23 in /usr/local/lib/python3.7/dist-packages (from Jinja2>=2.10.1->Flask>=1.0.4->dash==1.19.0) (1.1.1)\n",
            "Requirement already satisfied: jupyter-dash in /usr/local/lib/python3.7/dist-packages (0.4.0)\n",
            "Requirement already satisfied: retrying in /usr/local/lib/python3.7/dist-packages (from jupyter-dash) (1.3.3)\n",
            "Requirement already satisfied: dash in /usr/local/lib/python3.7/dist-packages (from jupyter-dash) (1.19.0)\n",
            "Requirement already satisfied: requests in /usr/local/lib/python3.7/dist-packages (from jupyter-dash) (2.23.0)\n",
            "Requirement already satisfied: ipykernel in /usr/local/lib/python3.7/dist-packages (from jupyter-dash) (4.10.1)\n",
            "Requirement already satisfied: ansi2html in /usr/local/lib/python3.7/dist-packages (from jupyter-dash) (1.6.0)\n",
            "Requirement already satisfied: ipython in /usr/local/lib/python3.7/dist-packages (from jupyter-dash) (5.5.0)\n",
            "Requirement already satisfied: flask in /usr/local/lib/python3.7/dist-packages (from jupyter-dash) (1.1.2)\n",
            "Requirement already satisfied: six>=1.7.0 in /usr/local/lib/python3.7/dist-packages (from retrying->jupyter-dash) (1.15.0)\n",
            "Requirement already satisfied: dash-core-components==1.15.0 in /usr/local/lib/python3.7/dist-packages (from dash->jupyter-dash) (1.15.0)\n",
            "Requirement already satisfied: dash-html-components==1.1.2 in /usr/local/lib/python3.7/dist-packages (from dash->jupyter-dash) (1.1.2)\n",
            "Requirement already satisfied: dash-table==4.11.2 in /usr/local/lib/python3.7/dist-packages (from dash->jupyter-dash) (4.11.2)\n",
            "Requirement already satisfied: dash-renderer==1.9.0 in /usr/local/lib/python3.7/dist-packages (from dash->jupyter-dash) (1.9.0)\n",
            "Requirement already satisfied: future in /usr/local/lib/python3.7/dist-packages (from dash->jupyter-dash) (0.16.0)\n",
            "Requirement already satisfied: plotly in /usr/local/lib/python3.7/dist-packages (from dash->jupyter-dash) (4.4.1)\n",
            "Requirement already satisfied: flask-compress in /usr/local/lib/python3.7/dist-packages (from dash->jupyter-dash) (1.9.0)\n",
            "Requirement already satisfied: certifi>=2017.4.17 in /usr/local/lib/python3.7/dist-packages (from requests->jupyter-dash) (2020.12.5)\n",
            "Requirement already satisfied: urllib3!=1.25.0,!=1.25.1,<1.26,>=1.21.1 in /usr/local/lib/python3.7/dist-packages (from requests->jupyter-dash) (1.24.3)\n",
            "Requirement already satisfied: chardet<4,>=3.0.2 in /usr/local/lib/python3.7/dist-packages (from requests->jupyter-dash) (3.0.4)\n",
            "Requirement already satisfied: idna<3,>=2.5 in /usr/local/lib/python3.7/dist-packages (from requests->jupyter-dash) (2.10)\n",
            "Requirement already satisfied: jupyter-client in /usr/local/lib/python3.7/dist-packages (from ipykernel->jupyter-dash) (5.3.5)\n",
            "Requirement already satisfied: traitlets>=4.1.0 in /usr/local/lib/python3.7/dist-packages (from ipykernel->jupyter-dash) (5.0.5)\n",
            "Requirement already satisfied: tornado>=4.0 in /usr/local/lib/python3.7/dist-packages (from ipykernel->jupyter-dash) (5.1.1)\n",
            "Requirement already satisfied: prompt-toolkit<2.0.0,>=1.0.4 in /usr/local/lib/python3.7/dist-packages (from ipython->jupyter-dash) (1.0.18)\n",
            "Requirement already satisfied: setuptools>=18.5 in /usr/local/lib/python3.7/dist-packages (from ipython->jupyter-dash) (56.0.0)\n",
            "Requirement already satisfied: pygments in /usr/local/lib/python3.7/dist-packages (from ipython->jupyter-dash) (2.6.1)\n",
            "Requirement already satisfied: pickleshare in /usr/local/lib/python3.7/dist-packages (from ipython->jupyter-dash) (0.7.5)\n",
            "Requirement already satisfied: pexpect; sys_platform != \"win32\" in /usr/local/lib/python3.7/dist-packages (from ipython->jupyter-dash) (4.8.0)\n",
            "Requirement already satisfied: decorator in /usr/local/lib/python3.7/dist-packages (from ipython->jupyter-dash) (4.4.2)\n",
            "Requirement already satisfied: simplegeneric>0.8 in /usr/local/lib/python3.7/dist-packages (from ipython->jupyter-dash) (0.8.1)\n",
            "Requirement already satisfied: click>=5.1 in /usr/local/lib/python3.7/dist-packages (from flask->jupyter-dash) (7.1.2)\n",
            "Requirement already satisfied: Jinja2>=2.10.1 in /usr/local/lib/python3.7/dist-packages (from flask->jupyter-dash) (2.11.3)\n",
            "Requirement already satisfied: Werkzeug>=0.15 in /usr/local/lib/python3.7/dist-packages (from flask->jupyter-dash) (1.0.1)\n",
            "Requirement already satisfied: itsdangerous>=0.24 in /usr/local/lib/python3.7/dist-packages (from flask->jupyter-dash) (1.1.0)\n",
            "Requirement already satisfied: brotli in /usr/local/lib/python3.7/dist-packages (from flask-compress->dash->jupyter-dash) (1.0.9)\n",
            "Requirement already satisfied: pyzmq>=13 in /usr/local/lib/python3.7/dist-packages (from jupyter-client->ipykernel->jupyter-dash) (22.0.3)\n",
            "Requirement already satisfied: python-dateutil>=2.1 in /usr/local/lib/python3.7/dist-packages (from jupyter-client->ipykernel->jupyter-dash) (2.8.1)\n",
            "Requirement already satisfied: jupyter-core>=4.6.0 in /usr/local/lib/python3.7/dist-packages (from jupyter-client->ipykernel->jupyter-dash) (4.7.1)\n",
            "Requirement already satisfied: ipython-genutils in /usr/local/lib/python3.7/dist-packages (from traitlets>=4.1.0->ipykernel->jupyter-dash) (0.2.0)\n",
            "Requirement already satisfied: wcwidth in /usr/local/lib/python3.7/dist-packages (from prompt-toolkit<2.0.0,>=1.0.4->ipython->jupyter-dash) (0.2.5)\n",
            "Requirement already satisfied: ptyprocess>=0.5 in /usr/local/lib/python3.7/dist-packages (from pexpect; sys_platform != \"win32\"->ipython->jupyter-dash) (0.7.0)\n",
            "Requirement already satisfied: MarkupSafe>=0.23 in /usr/local/lib/python3.7/dist-packages (from Jinja2>=2.10.1->flask->jupyter-dash) (1.1.1)\n"
          ],
          "name": "stdout"
        }
      ]
    },
    {
      "cell_type": "markdown",
      "metadata": {
        "id": "7g9Gs2AITuhl"
      },
      "source": [
        "## App Skeleton\n",
        "\n",
        "```python\n",
        "\n",
        "import dash\n",
        "....\n",
        "....\n",
        "from jupyter_dash import JupyterDash\n",
        "\n",
        "\n",
        "app = JupyterDash(__name__)\n",
        "JupyterDash.infer_jupyter_proxy_config()\n",
        "\n",
        "\n",
        "app.layout = html.Div(children=[html.H1(.......),\n",
        "                                html.Div(['Input:', dcc.Input(id='..', value='..', type='..', style={})], style={}),\n",
        "                                html.Br(),\n",
        "                                html.Br(),\n",
        "                                html.Div(dcc.Graph(id='..')),\n",
        "                               ])\n",
        "                               \n",
        "if __name__ == '__main__':\n",
        "    app.run_server(mode=\"inline\", host=\"localhost\")\n",
        "\n",
        "```\n"
      ]
    },
    {
      "cell_type": "code",
      "metadata": {
        "id": "GGQyFSqOTuhn"
      },
      "source": [
        "# Import required libraries\n",
        "import pandas as pd\n",
        "import dash\n",
        "import dash_html_components as html\n",
        "import dash_core_components as dcc\n",
        "from dash.dependencies import Input, Output\n",
        "from jupyter_dash import JupyterDash\n",
        "import plotly.graph_objects as go"
      ],
      "execution_count": 2,
      "outputs": []
    },
    {
      "cell_type": "code",
      "metadata": {
        "id": "KWme2epDTuho"
      },
      "source": [
        "JupyterDash.infer_jupyter_proxy_config()"
      ],
      "execution_count": 3,
      "outputs": []
    },
    {
      "cell_type": "code",
      "metadata": {
        "id": "CzG2G-r4Tuhp"
      },
      "source": [
        " # needs to be run again in a separate cell due to a jupyterdash bug\n",
        "JupyterDash.infer_jupyter_proxy_config()"
      ],
      "execution_count": 4,
      "outputs": []
    },
    {
      "cell_type": "code",
      "metadata": {
        "colab": {
          "base_uri": "https://localhost:8080/",
          "height": 671
        },
        "id": "SO7ticyoTuhq",
        "outputId": "b26d51d6-b90a-4ea7-861a-c3f5d1c181e0"
      },
      "source": [
        "# Create a dash application\n",
        "app = JupyterDash(__name__)\n",
        "\n",
        "# Read the airline data into pandas dataframe\n",
        "airline_data =  pd.read_csv('https://cf-courses-data.s3.us.cloud-object-storage.appdomain.cloud/IBMDeveloperSkillsNetwork-DV0101EN-SkillsNetwork/Data%20Files/airline_data.csv', \n",
        "                            encoding = \"ISO-8859-1\",\n",
        "                            dtype={'Div1Airport': str, 'Div1TailNum': str, \n",
        "                                   'Div2Airport': str, 'Div2TailNum': str})\n",
        "\n",
        "# TODO\n",
        "# Get the layout of the application and adjust it.\n",
        "# Create an outer division using html.Div and add title to the dashboard using html.H1 component\n",
        "# Add a html.Div and core input text component\n",
        "# Finally, add graph component.\n",
        "app.layout = html.Div(children=[ html.H1('Airline Performance Dashboard', \n",
        "                                style={'textAlign': 'center', 'color': '#503D36',\n",
        "                                'font-size': 40}),\n",
        "                                html.Div([\"Input Year: \", dcc.Input(id='input-year', value='2010', \n",
        "                                type='number', style={'height':'50px', 'font-size': 35}),], \n",
        "                                style={'font-size': 40}),\n",
        "                                html.Br(),\n",
        "                                html.Br(),\n",
        "                                html.Div(dcc.Graph(id='line-plot')),\n",
        "                                ])\n",
        "\n",
        "# add callback decorator\n",
        "@app.callback( Output(component_id='line-plot', component_property='figure'),\n",
        "               Input(component_id='input-year', component_property='value'))\n",
        "\n",
        "# Add computation to callback function and return graph\n",
        "def get_graph(entered_year):\n",
        "    # Select 2019 data\n",
        "    df =  airline_data[airline_data['Year']==int(entered_year)]\n",
        "    \n",
        "    # Group the data by Month and compute average over arrival delay time.\n",
        "    line_data = df.groupby('Month')['ArrDelay'].mean().reset_index()\n",
        "\n",
        "    fig = go.Figure(data=go.Scatter(x=line_data['Month'], y=line_data['ArrDelay'], mode='lines', marker=dict(color='green')))\n",
        "    fig.update_layout(title='Month vs Average Flight Delay Time', xaxis_title='Month', yaxis_title='ArrDelay')\n",
        "    return fig\n",
        "\n",
        "# Run the app\n",
        "if __name__ == '__main__':\n",
        "    app.run_server(mode=\"inline\", host=\"localhost\")"
      ],
      "execution_count": 5,
      "outputs": [
        {
          "output_type": "display_data",
          "data": {
            "application/javascript": [
              "(async (port, path, width, height, cache, element) => {\n",
              "    if (!google.colab.kernel.accessAllowed && !cache) {\n",
              "      return;\n",
              "    }\n",
              "    element.appendChild(document.createTextNode(''));\n",
              "    const url = await google.colab.kernel.proxyPort(port, {cache});\n",
              "    const iframe = document.createElement('iframe');\n",
              "    iframe.src = url + path;\n",
              "    iframe.height = height;\n",
              "    iframe.width = width;\n",
              "    iframe.style.border = 0;\n",
              "    element.appendChild(iframe);\n",
              "  })(8050, \"/\", \"100%\", 650, false, window.element)"
            ],
            "text/plain": [
              "<IPython.core.display.Javascript object>"
            ]
          },
          "metadata": {
            "tags": []
          }
        }
      ]
    },
    {
      "cell_type": "markdown",
      "metadata": {
        "id": "AqFIfC10Tuhq"
      },
      "source": [
        "Double-click **here** for the solution.\n",
        "\n",
        "<!-- The answer is below:\n",
        "    \n",
        "# Create a dash application\n",
        "app = JupyterDash(__name__)\n",
        "\n",
        "# Read the airline data into pandas dataframe\n",
        "airline_data =  pd.read_csv('https://cf-courses-data.s3.us.cloud-object-storage.appdomain.cloud/IBMDeveloperSkillsNetwork-DV0101EN-SkillsNetwork/Data%20Files/airline_data.csv', \n",
        "                            encoding = \"ISO-8859-1\",\n",
        "                            dtype={'Div1Airport': str, 'Div1TailNum': str, \n",
        "                                   'Div2Airport': str, 'Div2TailNum': str})\n",
        "\n",
        "# TODO\n",
        "# Get the layout of the application and adjust it.\n",
        "# Create an outer division using html.Div and add title to the dashboard using html.H1 component\n",
        "# Add a html.Div and core input text component\n",
        "# Finally, add graph component.\n",
        "app.layout = html.Div(children=[ html.H1('Airline Performance Dashboard', \n",
        "                                style={'textAlign': 'center', 'color': '#503D36',\n",
        "                                'font-size': 40}),\n",
        "                                html.Div([\"Input Year: \", dcc.Input(id='input-year', value='2010', \n",
        "                                type='number', style={'height':'50px', 'font-size': 35}),], \n",
        "                                style={'font-size': 40}),\n",
        "                                html.Br(),\n",
        "                                html.Br(),\n",
        "                                html.Div(dcc.Graph(id='line-plot')),\n",
        "                                ])\n",
        "\n",
        "# add callback decorator\n",
        "@app.callback( Output(component_id='line-plot', component_property='figure'),\n",
        "               Input(component_id='input-year', component_property='value'))\n",
        "\n",
        "# Add computation to callback function and return graph\n",
        "def get_graph(entered_year):\n",
        "    # Select 2019 data\n",
        "    df =  airline_data[airline_data['Year']==int(entered_year)]\n",
        "    \n",
        "    # Group the data by Month and compute average over arrival delay time.\n",
        "    line_data = df.groupby('Month')['ArrDelay'].mean().reset_index()\n",
        "\n",
        "    fig = go.Figure(data=go.Scatter(x=line_data['Month'], y=line_data['ArrDelay'], mode='lines', marker=dict(color='green')))\n",
        "    fig.update_layout(title='Month vs Average Flight Delay Time', xaxis_title='Month', yaxis_title='ArrDelay')\n",
        "    return fig\n",
        "\n",
        "# Run the app\n",
        "if __name__ == '__main__':\n",
        "    app.run_server(mode=\"inline\", host=\"localhost\")\n",
        "    \n",
        "-->\n"
      ]
    },
    {
      "cell_type": "markdown",
      "metadata": {
        "id": "4u85xQRaTuhr"
      },
      "source": [
        "## Summary\n",
        "\n",
        "Congratulations for completing your dash interactivity lab. \n",
        "\n",
        "In this lab, you have learnt how to make dash HTML and core components interact with each other for creating dashboard.\n"
      ]
    },
    {
      "cell_type": "markdown",
      "metadata": {
        "id": "RPDqX_XTTuhr"
      },
      "source": [
        "## Author\n",
        "\n",
        "[Saishruthi Swaminathan](https://www.linkedin.com/in/saishruthi-swaminathan?cm_mmc=Email_Newsletter-_-Developer_Ed%2BTech-_-WW_WW-_-SkillsNetwork-Courses-IBMDeveloperSkillsNetwork-DV0101EN-SkillsNetwork-20297740&cm_mmca1=000026UJ&cm_mmca2=10006555&cm_mmca3=M12345678&cvosrc=email.Newsletter.M12345678&cvo_campaign=000026UJ) \n"
      ]
    },
    {
      "cell_type": "markdown",
      "metadata": {
        "id": "AJyF7pkFTuhs"
      },
      "source": [
        "## Changelog\n",
        "\n",
        "| Date       | Version | Changed by | Change Description                   |\n",
        "| ---------- | ------- | ---------- | ------------------------------------ |\n",
        "| 12-18-2020 | 1.0     | Nayef      | Added dataset link and upload to Git |\n"
      ]
    },
    {
      "cell_type": "markdown",
      "metadata": {
        "id": "MbBBJ_07Tuhs"
      },
      "source": [
        "## <h3 align=\"center\"> © IBM Corporation 2020. All rights reserved. <h3/>\n"
      ]
    },
    {
      "cell_type": "code",
      "metadata": {
        "id": "3fBgMjwITuhs"
      },
      "source": [
        ""
      ],
      "execution_count": 5,
      "outputs": []
    }
  ]
}